{
 "cells": [
  {
   "cell_type": "markdown",
   "metadata": {},
   "source": [
    "# Mirror Descent for Robust Regression"
   ]
  },
  {
   "cell_type": "markdown",
   "metadata": {},
   "source": [
    "Aim is to minimize $$f(x)=\\frac{1}{m}\\|Ax-b\\|_{1}=\\frac{1}{m}\\sum_{i=1}^{m}|a_{i}^{T}x-b_{i}|$$ subject to $$x\\in\\mathcal{X}=\\{x\\in\\mathbb{R}_{+}^{n}|\\mathbf{1}^{T}x=1\\}.$$ Subgradient of the objective is $$\\partial f(x)=\\frac{1}{m}\\sum_{i=1}^{m}\\text{sign}(a_{i}^{T}x-b_{i})a_{i}.$$ Mirror descent update $(h(x)=\\sum_{i=1}^{n}x_{i}\\log x_{i})$: $$x_{i}^{k+1} = \\frac{x_{i}^{(k)}\\exp(-\\alpha g_{i}^{(k)})}{\\sum_{j=1}^{n}x_{j}^{(k)}\\exp(-\\alpha g_{j}^{(k)})}$$"
   ]
  },
  {
   "cell_type": "markdown",
   "metadata": {},
   "source": [
    "Robust regression problem with $a_{i}\\sim N(0,I_{n\\times n})$ and $b_{i}=(a_{i,1}+a_{i,2})/2+\\epsilon_{i}$ where $\\epsilon_{i}\\sim N(0,10^{-2})$, $m=50$, $n=100$."
   ]
  },
  {
   "cell_type": "code",
   "execution_count": 1,
   "metadata": {},
   "outputs": [],
   "source": [
    "import numpy as np\n",
    "import pandas as pd\n",
    "import matplotlib.pyplot as plt\n",
    "from time import perf_counter\n",
    "from tqdm import tqdm\n",
    "from scipy.optimize import linprog"
   ]
  },
  {
   "cell_type": "markdown",
   "metadata": {},
   "source": [
    "### Generate Data"
   ]
  },
  {
   "cell_type": "code",
   "execution_count": 2,
   "metadata": {},
   "outputs": [],
   "source": [
    "def gen_data(n=100, m=50):\n",
    "\n",
    "    A = np.random.normal(0, 1, (n,m))\n",
    "    eps = np.random.normal(0, 1e-2, n)\n",
    "    b = ((A[:,0]+A[:,1])/2 + eps).reshape(-1,1)\n",
    "    x0 = (np.ones(m)/m).reshape(-1,1)\n",
    "\n",
    "    return A, b, x0"
   ]
  },
  {
   "cell_type": "code",
   "execution_count": 3,
   "metadata": {},
   "outputs": [
    {
     "name": "stdout",
     "output_type": "stream",
     "text": [
      "(100, 50) (100, 1) (50, 1)\n",
      "(100, 1)\n"
     ]
    }
   ],
   "source": [
    "A0, b0, x00 = gen_data()\n",
    "print(A0.shape, b0.shape, x00.shape)\n",
    "print((A0 @ x00 - b0).shape)"
   ]
  },
  {
   "cell_type": "code",
   "execution_count": 4,
   "metadata": {},
   "outputs": [],
   "source": [
    "def objective(A, b, x):\n",
    "    x = x.reshape(-1,1)\n",
    "    return (1/len(x)) * np.linalg.norm(A @ x - b, ord=1)"
   ]
  },
  {
   "cell_type": "markdown",
   "metadata": {},
   "source": [
    "This is the subgradient"
   ]
  },
  {
   "cell_type": "code",
   "execution_count": 5,
   "metadata": {},
   "outputs": [],
   "source": [
    "def subgrad(A, b, x):\n",
    "    x = x.reshape(-1,1)\n",
    "    return (1/len(x))*(A.T @ np.sign(A @ x - b)).reshape(-1)"
   ]
  },
  {
   "cell_type": "markdown",
   "metadata": {},
   "source": [
    "### Projected Gradient Descent"
   ]
  },
  {
   "cell_type": "code",
   "execution_count": 8,
   "metadata": {},
   "outputs": [],
   "source": [
    "def pgd(A, b, x, epsilon=None, T=None):\n",
    "\n",
    "    assert not (epsilon is None and T is None)\n",
    "\n",
    "    m = len(x)\n",
    "\n",
    "    # L is calculated using the (2,2) norm of A, which is maybe not quite right\n",
    "    # (I guess it should be the (infty,2) norm of A.T, or the (2,1) norm of A).\n",
    "    # ||nabla f||2 = 1/m*||A.T sign(...)||_2 ~~= 1/m*||A.T||_{2,2}*||sign(...)||_2 ~~= ||A.T||_{2,2}\n",
    "    L = np.sqrt(np.linalg.eigvals(A.T @ A)[0])\n",
    "    R = 1\n",
    "\n",
    "    if epsilon is not None:\n",
    "        T = (R*L/epsilon)**2\n",
    "        alpha = (R/L)*np.sqrt(1/T)\n",
    "        T = round(T)\n",
    "        print(f\"PGD: T={T}, alpha={alpha}\")\n",
    "    else:\n",
    "        alpha = (R/L)*np.sqrt(1/T)\n",
    "\n",
    "    # Initialise values and results matrix\n",
    "    x_gd = np.zeros((m, T))\n",
    "    x_gd[:,0] = np.ones(m)/m\n",
    "    losses = []\n",
    "\n",
    "    # Function that projects onto the simplex\n",
    "    def project_onto_simplex(v):\n",
    "        n = len(v)\n",
    "        u = np.sort(v)[::-1]\n",
    "        cssv = np.cumsum(u) - 1\n",
    "        rho = np.nonzero(u > (cssv / np.arange(1, n+1)))[-1][-1]\n",
    "        theta = cssv[rho] / (rho + 1)\n",
    "        return np.maximum(v - theta, 0)\n",
    "\n",
    "    # Iterate over T-1 steps\n",
    "    for i in range(T-1):\n",
    "\n",
    "        # Mirror descent update equation\n",
    "        yi = x_gd[:,i] - alpha * subgrad(A, b, x_gd[:,i])\n",
    "        x_gd[:,i+1] = project_onto_simplex(yi)\n",
    "\n",
    "        #losses.append(np.linalg.norm((A @ x_gd[:,i+1] - b), ord=1))\n",
    "\n",
    "    return x_gd"
   ]
  },
  {
   "cell_type": "markdown",
   "metadata": {},
   "source": [
    "### Mirror Descent"
   ]
  },
  {
   "cell_type": "code",
   "execution_count": 9,
   "metadata": {},
   "outputs": [],
   "source": [
    "def mda(A, b, x, epsilon=None, T=None):\n",
    "\n",
    "    assert not(epsilon is None and T is None)\n",
    "\n",
    "    m = len(x)\n",
    "    \n",
    "    # Values used in the learning rate\n",
    "    L = 1/m*np.max(np.sum(np.abs(A), axis=0)) # Lipschitz constant in this case is given by the max column sum of absolute values of A. This is the same as np.linalg.norm(A, ord=1)\n",
    "    #L = np.linalg.eigvals(A.T @ A)[0] \n",
    "    R = np.sqrt(np.log(m)) # R is sqrt(log m)\n",
    "    rho = 1 # 1-strong convexity due to 1 strong convexity of negative entropy\n",
    "\n",
    "    if epsilon is not None:\n",
    "        T = (R*L/epsilon)**2*2/rho\n",
    "        alpha = ((R/L) * np.sqrt(2*rho / T)) # Learning rate formula from Bubeck book page 300\n",
    "        T = round(T)\n",
    "        print(f\"MDA: T={T}, alpha={alpha}\")\n",
    "    else:\n",
    "        alpha = ((R/L) * np.sqrt(2*rho / T))\n",
    "\n",
    "    # Initialise values and results matrix\n",
    "    x_md = np.zeros((m, T))\n",
    "    x_md[:,0] = np.ones(m)/m\n",
    "\n",
    "    # Iterate over T-1 steps\n",
    "    for i in range(T-1):\n",
    "\n",
    "        # Mirror descent update equation\n",
    "        g = subgrad(A, b, x_md[:,i])\n",
    "        yi = x_md[:,i] * np.exp(-alpha * g)\n",
    "        x_md[:,i+1] = yi / np.sum(yi)\n",
    "    \n",
    "        #losses.append(np.linalg.norm((A @ x_md[:,i+1] - b), ord=1))\n",
    "\n",
    "    return x_md"
   ]
  },
  {
   "cell_type": "markdown",
   "metadata": {},
   "source": [
    "### Results"
   ]
  },
  {
   "cell_type": "code",
   "execution_count": 18,
   "metadata": {},
   "outputs": [],
   "source": [
    "ms = np.logspace(2, 2.5, 5).astype(int)\n",
    "\n",
    "pgds = []\n",
    "mds = []\n",
    "ops = []\n",
    "f_stars_m = []\n",
    "f_stars_p = []\n",
    "\n",
    "eps_pgd = 0.1\n",
    "eps_mda = 0.1\n",
    "T = 10000\n",
    "\n",
    "T_fixed = True\n",
    "\n",
    "for m in ms:\n",
    "\n",
    "    A, b, x0 = gen_data(2*m, m) # try n = 2m (or 10m or whatever)\n",
    "\n",
    "    #ops.append(objective(A, b, robust_regression_l1(A, b)))\n",
    "    \n",
    "    if not T_fixed:\n",
    "        t1 = perf_counter()\n",
    "        pgds.append(objective(A, b, np.mean(pgd(A, b, x0, epsilon=eps_pgd), axis=1))) # Average all x_ts\n",
    "        t2 = perf_counter()\n",
    "        print(f\"Time for PGD at m={m}: {t2-t1}\")\n",
    "        mds.append(objective(A, b, np.mean(mda(A, b, x0, epsilon=eps_mda), axis=1))) # Average all x_ts\n",
    "        t3 = perf_counter()\n",
    "        print(f\"Time for MDA at m={m}: {t3-t2}\")\n",
    "    else:\n",
    "        pgds.append(objective(A, b, np.mean(pgd(A, b, x0, T=T), axis=1))) # Average all x_ts\n",
    "        mds.append(objective(A, b, np.mean(mda(A, b, x0, T=T), axis=1))) # Average all x_ts"
   ]
  },
  {
   "cell_type": "code",
   "execution_count": 22,
   "metadata": {},
   "outputs": [
    {
     "data": {
      "image/png": "[encoded data removed]",
      "text/plain": [
       "<Figure size 1000x600 with 1 Axes>"
      ]
     },
     "metadata": {},
     "output_type": "display_data"
    }
   ],
   "source": [
    "if T_fixed:\n",
    "    pgd_label = f\"PGD\"\n",
    "    mda_label = f\"MDA\"\n",
    "else:\n",
    "    pgd_label = f\"PGD ($\\epsilon={eps_pgd:.2f}$)\"\n",
    "    mda_label = f\"MDA ($\\epsilon={eps_mda:.2f}$)\"\n",
    "plt.plot(ms, np.array(pgds), label=pgd_label, color=\"blue\", lw=1, linestyle=\"solid\")\n",
    "plt.plot(ms, np.array(mds), label=mda_label, color=\"red\", lw=1, linestyle=\"solid\")\n",
    "#plt.plot(ms, np.array(ops), label=\"Optimal\", color=\"green\", lw=1, linestyle=\"solid\")\n",
    "\n",
    "plt.yscale(\"log\")\n",
    "plt.xscale(\"log\")\n",
    "#plt.ylim(1e-5, 1e3)\n",
    "\n",
    "plt.ylabel(r\"$f(\\bar{x})-f^{\\star}$\")\n",
    "plt.xlabel(\"m\")\n",
    "\n",
    "plt.legend()\n",
    "plt.rcParams[\"figure.figsize\"] = (10, 6)\n",
    "plt.savefig(\"robust_regression.png\", dpi=300)\n"
   ]
  }
 ],
 "metadata": {
  "kernelspec": {
   "display_name": "Python 3",
   "language": "python",
   "name": "python3"
  },
  "language_info": {
   "codemirror_mode": {
    "name": "ipython",
    "version": 3
   },
   "file_extension": ".py",
   "mimetype": "text/x-python",
   "name": "python",
   "nbconvert_exporter": "python",
   "pygments_lexer": "ipython3",
   "version": "3.10.0"
  }
 },
 "nbformat": 4,
 "nbformat_minor": 2
}
